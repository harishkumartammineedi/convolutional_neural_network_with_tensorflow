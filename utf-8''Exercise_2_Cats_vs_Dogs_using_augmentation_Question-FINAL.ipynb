{
 "cells": [
  {
   "cell_type": "code",
   "execution_count": 2,
   "metadata": {
    "colab": {},
    "colab_type": "code",
    "id": "dn-6c02VmqiN"
   },
   "outputs": [],
   "source": [
    "# ATTENTION: Please do not alter any of the provided code in the exercise. Only add your own code where indicated\n",
    "# ATTENTION: Please do not add or remove any cells in the exercise. The grader will check specific cells based on the cell position.\n",
    "# ATTENTION: Please use the provided epoch values when training.\n",
    "\n",
    "# In this exercise you will train a CNN on the FULL Cats-v-dogs dataset\n",
    "# This will require you doing a lot of data preprocessing because\n",
    "# the dataset isn't split into training and validation for you\n",
    "# This code block has all the required inputs\n",
    "import os\n",
    "import zipfile\n",
    "import random\n",
    "import shutil\n",
    "import tensorflow as tf\n",
    "from tensorflow.keras.optimizers import RMSprop\n",
    "from tensorflow.keras.preprocessing.image import ImageDataGenerator\n",
    "from shutil import copyfile\n",
    "from os import getcwd"
   ]
  },
  {
   "cell_type": "code",
   "execution_count": 3,
   "metadata": {
    "colab": {},
    "colab_type": "code",
    "id": "3sd9dQWa23aj"
   },
   "outputs": [],
   "source": [
    "# This code block unzips the full Cats-v-Dogs dataset to /tmp\n",
    "# which will create a tmp/PetImages directory containing subdirectories\n",
    "# called 'Cat' and 'Dog' (that's how the original researchers structured it)\n",
    "path_cats_and_dogs = f\"{getcwd()}/../tmp2/cats-and-dogs.zip\"\n",
    "shutil.rmtree('/tmp')\n",
    "\n",
    "local_zip = path_cats_and_dogs\n",
    "zip_ref = zipfile.ZipFile(local_zip, 'r')\n",
    "zip_ref.extractall('/tmp')\n",
    "zip_ref.close()"
   ]
  },
  {
   "cell_type": "code",
   "execution_count": 10,
   "metadata": {
    "colab": {},
    "colab_type": "code",
    "id": "gi3yD62a6X3S"
   },
   "outputs": [
    {
     "name": "stdout",
     "output_type": "stream",
     "text": [
      "1500\n",
      "1500\n"
     ]
    }
   ],
   "source": [
    "print(len(os.listdir('/tmp/PetImages/Cat/')))\n",
    "print(len(os.listdir('/tmp/PetImages/Dog/')))\n",
    "\n",
    "# Expected Output:\n",
    "# 1500\n",
    "# 1500"
   ]
  },
  {
   "cell_type": "code",
   "execution_count": 11,
   "metadata": {
    "colab": {},
    "colab_type": "code",
    "id": "F-QkLjxpmyK2"
   },
   "outputs": [],
   "source": [
    "# Use os.mkdir to create your directories\n",
    "# You will need a directory for cats-v-dogs, and subdirectories for training\n",
    "# and testing. These in turn will need subdirectories for 'cats' and 'dogs'\n",
    "try:\n",
    "    #YOUR CODE GOES HERE\n",
    "    os.chdir('/tmp')\n",
    "    os.mkdir('cats-v-dogs')\n",
    "    os.chdir('/tmp/cats-v-dogs')\n",
    "    os.mkdir('training')\n",
    "    os.mkdir('testing')\n",
    "    os.chdir('/tmp/cats-v-dogs/training')\n",
    "    os.mkdir('cats')\n",
    "    os.mkdir('dogs')\n",
    "    os.chdir('/tmp/cats-v-dogs/testing')\n",
    "    os.mkdir('cats')\n",
    "    os.mkdir('dogs')\n",
    "except OSError:\n",
    "    pass"
   ]
  },
  {
   "cell_type": "code",
   "execution_count": 13,
   "metadata": {
    "colab": {},
    "colab_type": "code",
    "id": "zvSODo0f9LaU"
   },
   "outputs": [],
   "source": [
    "# Write a python function called split_data which takes\n",
    "# a SOURCE directory containing the files\n",
    "# a TRAINING directory that a portion of the files will be copied to\n",
    "# a TESTING directory that a portion of the files will be copie to\n",
    "# a SPLIT SIZE to determine the portion\n",
    "# The files should also be randomized, so that the training set is a random\n",
    "# X% of the files, and the test set is the remaining files\n",
    "# SO, for example, if SOURCE is PetImages/Cat, and SPLIT SIZE is .9\n",
    "# Then 90% of the images in PetImages/Cat will be copied to the TRAINING dir\n",
    "# and 10% of the images will be copied to the TESTING dir\n",
    "# Also -- All images should be checked, and if they have a zero file length,\n",
    "# they will not be copied over\n",
    "#\n",
    "# os.listdir(DIRECTORY) gives you a listing of the contents of that directory\n",
    "# os.path.getsize(PATH) gives you the size of the file\n",
    "# copyfile(source, destination) copies a file from source to destination\n",
    "# random.sample(list, len(list)) shuffles a list\n",
    "\n",
    "def split_data(SOURCE, TRAINING, TESTING, SPLIT_SIZE):\n",
    "    main_list = os.listdir(SOURCE)\n",
    "    #random.shuffle(main_list) #we can even use random.compile(list,len(list))-->it will return a new list\n",
    "    main_list=random.sample(main_list,len(main_list))\n",
    "    split_index=int(len(main_list)*SPLIT_SIZE)\n",
    "    train_list,test_list = main_list[:split_index],main_list[split_index:]\n",
    "    \n",
    "    for item in train_list:\n",
    "        sourcefile = os.path.join(SOURCE,item)\n",
    "        destfile = os.path.join(TRAINING,item)\n",
    "        if os.path.getsize(sourcefile) > 0:\n",
    "            copyfile(sourcefile,destfile)\n",
    "    \n",
    "    for item in test_list:\n",
    "        sourcefile = os.path.join(SOURCE,item)\n",
    "        destfile = os.path.join(TESTING,item)\n",
    "        if os.path.getsize(sourcefile) > 0:\n",
    "            copyfile(sourcefile,destfile)\n",
    "\n",
    "\n",
    "CAT_SOURCE_DIR = \"/tmp/PetImages/Cat/\"\n",
    "TRAINING_CATS_DIR = \"/tmp/cats-v-dogs/training/cats/\"\n",
    "TESTING_CATS_DIR = \"/tmp/cats-v-dogs/testing/cats/\"\n",
    "DOG_SOURCE_DIR = \"/tmp/PetImages/Dog/\"\n",
    "TRAINING_DOGS_DIR = \"/tmp/cats-v-dogs/training/dogs/\"\n",
    "TESTING_DOGS_DIR = \"/tmp/cats-v-dogs/testing/dogs/\"\n",
    "\n",
    "split_size = .9\n",
    "split_data(CAT_SOURCE_DIR, TRAINING_CATS_DIR, TESTING_CATS_DIR, split_size)\n",
    "split_data(DOG_SOURCE_DIR, TRAINING_DOGS_DIR, TESTING_DOGS_DIR, split_size)"
   ]
  },
  {
   "cell_type": "code",
   "execution_count": 14,
   "metadata": {
    "colab": {},
    "colab_type": "code",
    "id": "luthalB76ufC"
   },
   "outputs": [
    {
     "name": "stdout",
     "output_type": "stream",
     "text": [
      "1350\n",
      "1350\n",
      "150\n",
      "150\n"
     ]
    }
   ],
   "source": [
    "print(len(os.listdir('/tmp/cats-v-dogs/training/cats/')))\n",
    "print(len(os.listdir('/tmp/cats-v-dogs/training/dogs/')))\n",
    "print(len(os.listdir('/tmp/cats-v-dogs/testing/cats/')))\n",
    "print(len(os.listdir('/tmp/cats-v-dogs/testing/dogs/')))\n",
    "\n",
    "# Expected output:\n",
    "# 1350\n",
    "# 1350\n",
    "# 150\n",
    "# 150"
   ]
  },
  {
   "cell_type": "code",
   "execution_count": 17,
   "metadata": {
    "colab": {},
    "colab_type": "code",
    "id": "-BQrav4anTmj"
   },
   "outputs": [
    {
     "name": "stdout",
     "output_type": "stream",
     "text": [
      "Model: \"sequential\"\n",
      "_________________________________________________________________\n",
      "Layer (type)                 Output Shape              Param #   \n",
      "=================================================================\n",
      "conv2d (Conv2D)              (None, 148, 148, 16)      448       \n",
      "_________________________________________________________________\n",
      "max_pooling2d (MaxPooling2D) (None, 74, 74, 16)        0         \n",
      "_________________________________________________________________\n",
      "conv2d_1 (Conv2D)            (None, 72, 72, 32)        4640      \n",
      "_________________________________________________________________\n",
      "max_pooling2d_1 (MaxPooling2 (None, 36, 36, 32)        0         \n",
      "_________________________________________________________________\n",
      "conv2d_2 (Conv2D)            (None, 34, 34, 64)        18496     \n",
      "_________________________________________________________________\n",
      "flatten (Flatten)            (None, 73984)             0         \n",
      "_________________________________________________________________\n",
      "dense (Dense)                (None, 512)               37880320  \n",
      "_________________________________________________________________\n",
      "dense_1 (Dense)              (None, 1)                 513       \n",
      "=================================================================\n",
      "Total params: 37,904,417\n",
      "Trainable params: 37,904,417\n",
      "Non-trainable params: 0\n",
      "_________________________________________________________________\n"
     ]
    }
   ],
   "source": [
    "# DEFINE A KERAS MODEL TO CLASSIFY CATS V DOGS\n",
    "# USE AT LEAST 3 CONVOLUTION LAYERS\n",
    "model = tf.keras.models.Sequential([\n",
    "        tf.keras.layers.Conv2D(16,(3,3),activation='relu',input_shape=(150,150,3)),\n",
    "        tf.keras.layers.MaxPooling2D(2,2),\n",
    "        tf.keras.layers.Conv2D(32,(3,3),activation='relu'),\n",
    "        tf.keras.layers.MaxPooling2D(2,2),\n",
    "        tf.keras.layers.Conv2D(64,(3,3),activation='relu'),\n",
    "        tf.keras.layers.Flatten(),\n",
    "        tf.keras.layers.Dense(512,activation='relu'),\n",
    "        tf.keras.layers.Dense(1,activation='sigmoid')\n",
    "])\n",
    "\n",
    "model.compile(optimizer=RMSprop(lr=0.001), loss='binary_crossentropy', metrics=['acc'])\n",
    "model.summary()"
   ]
  },
  {
   "cell_type": "markdown",
   "metadata": {},
   "source": [
    "# NOTE:\n",
    "\n",
    "In the cell below you **MUST** use a batch size of 10 (`batch_size=10`) for the `train_generator` and the `validation_generator`. Using a batch size greater than 10 will exceed memory limits on the Coursera platform."
   ]
  },
  {
   "cell_type": "code",
   "execution_count": 18,
   "metadata": {
    "colab": {},
    "colab_type": "code",
    "id": "mlNjoJ5D61N6"
   },
   "outputs": [
    {
     "name": "stdout",
     "output_type": "stream",
     "text": [
      "Found 2700 images belonging to 2 classes.\n",
      "Found 300 images belonging to 2 classes.\n"
     ]
    }
   ],
   "source": [
    "TRAINING_DIR = '/tmp/cats-v-dogs/training'\n",
    "train_datagen = ImageDataGenerator(\n",
    "                rescale=1.0/255.,\n",
    "                rotation_range=40,\n",
    "                width_shift_range=0.2,\n",
    "                height_shift_range=0.2,\n",
    "                shear_range=0.2,\n",
    "                zoom_range=0.2,\n",
    "                horizontal_flip=True,\n",
    "                fill_mode='nearest')\n",
    "\n",
    "# NOTE: YOU MUST USE A BATCH SIZE OF 10 (batch_size=10) FOR THE \n",
    "# TRAIN GENERATOR.\n",
    "train_generator = train_datagen.flow_from_directory(TRAINING_DIR,batch_size=10,target_size=(150,150),class_mode='binary')\n",
    "\n",
    "VALIDATION_DIR = '/tmp/cats-v-dogs/testing'\n",
    "validation_datagen = ImageDataGenerator(rescale=1.0/255.)\n",
    "\n",
    "# NOTE: YOU MUST USE A BACTH SIZE OF 10 (batch_size=10) FOR THE \n",
    "# VALIDATION GENERATOR.\n",
    "validation_generator = validation_datagen.flow_from_directory(VALIDATION_DIR,batch_size=10,target_size=(150,150),class_mode='binary')\n",
    "\n",
    "\n",
    "\n",
    "# Expected Output:\n",
    "# Found 2700 images belonging to 2 classes.\n",
    "# Found 300 images belonging to 2 classes."
   ]
  },
  {
   "cell_type": "code",
   "execution_count": 19,
   "metadata": {
    "colab": {},
    "colab_type": "code",
    "id": "KyS4n53w7DxC"
   },
   "outputs": [
    {
     "name": "stdout",
     "output_type": "stream",
     "text": [
      "Train for 270 steps, validate for 30 steps\n",
      "Epoch 1/100\n",
      "270/270 - 48s - loss: 0.7965 - acc: 0.5363 - val_loss: 0.6587 - val_acc: 0.6167\n",
      "Epoch 2/100\n",
      "270/270 - 42s - loss: 0.6852 - acc: 0.5941 - val_loss: 0.6419 - val_acc: 0.6300\n",
      "Epoch 3/100\n",
      "270/270 - 44s - loss: 0.6697 - acc: 0.6115 - val_loss: 0.6501 - val_acc: 0.6333\n",
      "Epoch 4/100\n",
      "270/270 - 44s - loss: 0.6692 - acc: 0.6326 - val_loss: 0.6012 - val_acc: 0.6367\n",
      "Epoch 5/100\n",
      "270/270 - 44s - loss: 0.6409 - acc: 0.6467 - val_loss: 0.5848 - val_acc: 0.6833\n",
      "Epoch 6/100\n",
      "270/270 - 45s - loss: 0.6497 - acc: 0.6463 - val_loss: 0.5738 - val_acc: 0.6733\n",
      "Epoch 7/100\n",
      "270/270 - 44s - loss: 0.6389 - acc: 0.6670 - val_loss: 0.5929 - val_acc: 0.6967\n",
      "Epoch 8/100\n",
      "270/270 - 43s - loss: 0.6275 - acc: 0.6570 - val_loss: 0.5479 - val_acc: 0.6900\n",
      "Epoch 9/100\n",
      "270/270 - 43s - loss: 0.6226 - acc: 0.6719 - val_loss: 0.7009 - val_acc: 0.6433\n",
      "Epoch 10/100\n",
      "270/270 - 42s - loss: 0.6290 - acc: 0.6704 - val_loss: 0.6036 - val_acc: 0.6900\n",
      "Epoch 11/100\n",
      "270/270 - 42s - loss: 0.6074 - acc: 0.6848 - val_loss: 0.5603 - val_acc: 0.7067\n",
      "Epoch 12/100\n",
      "270/270 - 42s - loss: 0.6147 - acc: 0.6759 - val_loss: 0.5648 - val_acc: 0.7300\n",
      "Epoch 13/100\n",
      "270/270 - 43s - loss: 0.5993 - acc: 0.6937 - val_loss: 0.6955 - val_acc: 0.6767\n",
      "Epoch 14/100\n",
      "270/270 - 44s - loss: 0.5872 - acc: 0.7030 - val_loss: 0.5654 - val_acc: 0.7167\n",
      "Epoch 15/100\n",
      "270/270 - 44s - loss: 0.6024 - acc: 0.6904 - val_loss: 0.5785 - val_acc: 0.6867\n",
      "Epoch 16/100\n",
      "270/270 - 44s - loss: 0.6219 - acc: 0.6896 - val_loss: 0.5477 - val_acc: 0.6800\n",
      "Epoch 17/100\n",
      "270/270 - 43s - loss: 0.5952 - acc: 0.7096 - val_loss: 0.5501 - val_acc: 0.6933\n",
      "Epoch 18/100\n",
      "270/270 - 43s - loss: 0.5942 - acc: 0.7056 - val_loss: 0.5080 - val_acc: 0.7300\n",
      "Epoch 19/100\n",
      "270/270 - 43s - loss: 0.5932 - acc: 0.6970 - val_loss: 0.6023 - val_acc: 0.6600\n",
      "Epoch 20/100\n",
      "270/270 - 42s - loss: 0.6148 - acc: 0.6981 - val_loss: 0.5455 - val_acc: 0.7133\n",
      "Epoch 21/100\n",
      "270/270 - 42s - loss: 0.5928 - acc: 0.7007 - val_loss: 0.5914 - val_acc: 0.7000\n",
      "Epoch 22/100\n",
      "270/270 - 42s - loss: 0.5761 - acc: 0.7137 - val_loss: 0.6245 - val_acc: 0.6833\n",
      "Epoch 23/100\n",
      "270/270 - 41s - loss: 0.5884 - acc: 0.7081 - val_loss: 0.6587 - val_acc: 0.7033\n",
      "Epoch 24/100\n",
      "270/270 - 42s - loss: 0.5955 - acc: 0.7170 - val_loss: 0.5828 - val_acc: 0.6967\n",
      "Epoch 25/100\n",
      "270/270 - 42s - loss: 0.5985 - acc: 0.7059 - val_loss: 0.5466 - val_acc: 0.7300\n",
      "Epoch 26/100\n",
      "270/270 - 42s - loss: 0.5864 - acc: 0.7011 - val_loss: 0.6111 - val_acc: 0.6867\n",
      "Epoch 27/100\n",
      "270/270 - 43s - loss: 0.5861 - acc: 0.7156 - val_loss: 0.7267 - val_acc: 0.6800\n",
      "Epoch 28/100\n",
      "270/270 - 43s - loss: 0.5844 - acc: 0.7148 - val_loss: 0.5198 - val_acc: 0.7500\n",
      "Epoch 29/100\n",
      "270/270 - 43s - loss: 0.5819 - acc: 0.7148 - val_loss: 0.6295 - val_acc: 0.7067\n",
      "Epoch 30/100\n",
      "270/270 - 43s - loss: 0.5896 - acc: 0.7093 - val_loss: 0.5813 - val_acc: 0.7133\n",
      "Epoch 31/100\n",
      "270/270 - 44s - loss: 0.5876 - acc: 0.7174 - val_loss: 0.5503 - val_acc: 0.7033\n",
      "Epoch 32/100\n",
      "270/270 - 45s - loss: 0.5735 - acc: 0.7204 - val_loss: 0.7215 - val_acc: 0.7200\n",
      "Epoch 33/100\n",
      "270/270 - 44s - loss: 0.5862 - acc: 0.7252 - val_loss: 0.5772 - val_acc: 0.7267\n",
      "Epoch 34/100\n",
      "270/270 - 44s - loss: 0.5752 - acc: 0.7252 - val_loss: 0.6622 - val_acc: 0.6967\n",
      "Epoch 35/100\n",
      "270/270 - 44s - loss: 0.5917 - acc: 0.7163 - val_loss: 0.5393 - val_acc: 0.7333\n",
      "Epoch 36/100\n",
      "270/270 - 43s - loss: 0.5714 - acc: 0.7193 - val_loss: 0.5204 - val_acc: 0.7200\n",
      "Epoch 37/100\n",
      "270/270 - 43s - loss: 0.5773 - acc: 0.7067 - val_loss: 0.5828 - val_acc: 0.7100\n",
      "Epoch 38/100\n",
      "270/270 - 44s - loss: 0.5726 - acc: 0.7185 - val_loss: 0.6351 - val_acc: 0.7267\n",
      "Epoch 39/100\n",
      "270/270 - 44s - loss: 0.5787 - acc: 0.7178 - val_loss: 0.5206 - val_acc: 0.7400\n",
      "Epoch 40/100\n",
      "270/270 - 43s - loss: 0.5683 - acc: 0.7307 - val_loss: 0.5129 - val_acc: 0.7633\n",
      "Epoch 41/100\n",
      "270/270 - 44s - loss: 0.5885 - acc: 0.7233 - val_loss: 0.5245 - val_acc: 0.7367\n",
      "Epoch 42/100\n",
      "270/270 - 43s - loss: 0.5526 - acc: 0.7300 - val_loss: 0.6298 - val_acc: 0.7133\n",
      "Epoch 43/100\n",
      "270/270 - 43s - loss: 0.5810 - acc: 0.7189 - val_loss: 0.5459 - val_acc: 0.7100\n",
      "Epoch 44/100\n",
      "270/270 - 43s - loss: 0.5764 - acc: 0.7130 - val_loss: 0.5188 - val_acc: 0.7567\n",
      "Epoch 45/100\n",
      "270/270 - 44s - loss: 0.5669 - acc: 0.7285 - val_loss: 0.6036 - val_acc: 0.7300\n",
      "Epoch 46/100\n",
      "270/270 - 44s - loss: 0.5731 - acc: 0.7259 - val_loss: 0.5608 - val_acc: 0.7033\n",
      "Epoch 47/100\n",
      "270/270 - 44s - loss: 0.5946 - acc: 0.7230 - val_loss: 0.5254 - val_acc: 0.7167\n",
      "Epoch 48/100\n",
      "270/270 - 43s - loss: 0.5791 - acc: 0.7185 - val_loss: 0.5190 - val_acc: 0.7333\n",
      "Epoch 49/100\n",
      "270/270 - 44s - loss: 0.5550 - acc: 0.7252 - val_loss: 0.5423 - val_acc: 0.7433\n",
      "Epoch 50/100\n",
      "270/270 - 43s - loss: 0.5697 - acc: 0.7289 - val_loss: 0.4993 - val_acc: 0.7567\n",
      "Epoch 51/100\n",
      "270/270 - 42s - loss: 0.5783 - acc: 0.7304 - val_loss: 0.5376 - val_acc: 0.7100\n",
      "Epoch 52/100\n",
      "270/270 - 43s - loss: 0.5767 - acc: 0.7307 - val_loss: 0.4913 - val_acc: 0.7533\n",
      "Epoch 53/100\n",
      "270/270 - 43s - loss: 0.5882 - acc: 0.7196 - val_loss: 0.5918 - val_acc: 0.7467\n",
      "Epoch 54/100\n",
      "270/270 - 44s - loss: 0.5498 - acc: 0.7352 - val_loss: 0.7773 - val_acc: 0.7100\n",
      "Epoch 55/100\n",
      "270/270 - 44s - loss: 0.5929 - acc: 0.7441 - val_loss: 0.6126 - val_acc: 0.7133\n",
      "Epoch 56/100\n",
      "270/270 - 44s - loss: 0.5579 - acc: 0.7341 - val_loss: 0.5277 - val_acc: 0.7433\n",
      "Epoch 57/100\n",
      "270/270 - 45s - loss: 0.5699 - acc: 0.7230 - val_loss: 0.5377 - val_acc: 0.7133\n",
      "Epoch 58/100\n",
      "270/270 - 43s - loss: 0.5503 - acc: 0.7333 - val_loss: 0.5646 - val_acc: 0.7600\n",
      "Epoch 59/100\n",
      "270/270 - 43s - loss: 0.5626 - acc: 0.7219 - val_loss: 0.5756 - val_acc: 0.7533\n",
      "Epoch 60/100\n",
      "270/270 - 43s - loss: 0.5710 - acc: 0.7322 - val_loss: 0.5202 - val_acc: 0.7667\n",
      "Epoch 61/100\n",
      "270/270 - 43s - loss: 0.5548 - acc: 0.7311 - val_loss: 0.6264 - val_acc: 0.7300\n",
      "Epoch 62/100\n",
      "270/270 - 43s - loss: 0.5724 - acc: 0.7307 - val_loss: 0.5312 - val_acc: 0.7700\n",
      "Epoch 63/100\n",
      "270/270 - 44s - loss: 0.5430 - acc: 0.7511 - val_loss: 0.5260 - val_acc: 0.7533\n",
      "Epoch 64/100\n",
      "270/270 - 43s - loss: 0.5690 - acc: 0.7226 - val_loss: 0.5223 - val_acc: 0.7300\n",
      "Epoch 65/100\n",
      "270/270 - 43s - loss: 0.5773 - acc: 0.7185 - val_loss: 0.5367 - val_acc: 0.7500\n",
      "Epoch 66/100\n",
      "270/270 - 44s - loss: 0.5561 - acc: 0.7337 - val_loss: 0.5175 - val_acc: 0.7433\n",
      "Epoch 67/100\n",
      "270/270 - 45s - loss: 0.5742 - acc: 0.7211 - val_loss: 0.5045 - val_acc: 0.7833\n",
      "Epoch 68/100\n",
      "270/270 - 44s - loss: 0.5725 - acc: 0.7281 - val_loss: 0.5768 - val_acc: 0.7867\n",
      "Epoch 69/100\n",
      "270/270 - 45s - loss: 0.5652 - acc: 0.7381 - val_loss: 0.5160 - val_acc: 0.7700\n",
      "Epoch 70/100\n",
      "270/270 - 45s - loss: 0.5652 - acc: 0.7344 - val_loss: 0.5082 - val_acc: 0.7333\n",
      "Epoch 71/100\n",
      "270/270 - 44s - loss: 0.5684 - acc: 0.7319 - val_loss: 0.5604 - val_acc: 0.7167\n",
      "Epoch 72/100\n",
      "270/270 - 44s - loss: 0.5701 - acc: 0.7281 - val_loss: 0.4796 - val_acc: 0.8000\n",
      "Epoch 73/100\n",
      "270/270 - 44s - loss: 0.5614 - acc: 0.7307 - val_loss: 0.4939 - val_acc: 0.7300\n",
      "Epoch 74/100\n",
      "270/270 - 44s - loss: 0.5581 - acc: 0.7293 - val_loss: 2.1576 - val_acc: 0.5800\n",
      "Epoch 75/100\n",
      "270/270 - 44s - loss: 0.5638 - acc: 0.7296 - val_loss: 0.5341 - val_acc: 0.7233\n",
      "Epoch 76/100\n",
      "270/270 - 44s - loss: 0.5563 - acc: 0.7374 - val_loss: 0.5037 - val_acc: 0.7700\n",
      "Epoch 77/100\n",
      "270/270 - 44s - loss: 0.5491 - acc: 0.7470 - val_loss: 0.5875 - val_acc: 0.7067\n",
      "Epoch 78/100\n",
      "270/270 - 44s - loss: 0.5468 - acc: 0.7470 - val_loss: 0.5351 - val_acc: 0.7400\n",
      "Epoch 79/100\n",
      "270/270 - 44s - loss: 0.5652 - acc: 0.7411 - val_loss: 0.5990 - val_acc: 0.7600\n",
      "Epoch 80/100\n",
      "270/270 - 45s - loss: 0.5774 - acc: 0.7315 - val_loss: 0.6983 - val_acc: 0.7533\n",
      "Epoch 81/100\n",
      "270/270 - 45s - loss: 0.5529 - acc: 0.7378 - val_loss: 0.5475 - val_acc: 0.6833\n",
      "Epoch 82/100\n",
      "270/270 - 43s - loss: 0.5845 - acc: 0.7222 - val_loss: 0.4843 - val_acc: 0.7867\n",
      "Epoch 83/100\n",
      "270/270 - 44s - loss: 0.5688 - acc: 0.7374 - val_loss: 0.6995 - val_acc: 0.7100\n",
      "Epoch 84/100\n",
      "270/270 - 44s - loss: 0.5699 - acc: 0.7407 - val_loss: 0.6721 - val_acc: 0.7000\n",
      "Epoch 85/100\n",
      "270/270 - 44s - loss: 0.6239 - acc: 0.7337 - val_loss: 0.5361 - val_acc: 0.7633\n",
      "Epoch 86/100\n",
      "270/270 - 43s - loss: 0.5772 - acc: 0.7307 - val_loss: 1.1072 - val_acc: 0.6933\n",
      "Epoch 87/100\n",
      "270/270 - 44s - loss: 0.5572 - acc: 0.7333 - val_loss: 0.5162 - val_acc: 0.7733\n",
      "Epoch 88/100\n",
      "270/270 - 45s - loss: 0.5588 - acc: 0.7367 - val_loss: 0.7676 - val_acc: 0.7567\n",
      "Epoch 89/100\n",
      "270/270 - 43s - loss: 0.5398 - acc: 0.7478 - val_loss: 0.4873 - val_acc: 0.7767\n",
      "Epoch 90/100\n",
      "270/270 - 43s - loss: 0.5611 - acc: 0.7378 - val_loss: 0.4837 - val_acc: 0.7900\n",
      "Epoch 91/100\n",
      "270/270 - 42s - loss: 0.5588 - acc: 0.7378 - val_loss: 0.7206 - val_acc: 0.7267\n",
      "Epoch 92/100\n",
      "270/270 - 42s - loss: 0.5542 - acc: 0.7300 - val_loss: 0.5950 - val_acc: 0.7267\n",
      "Epoch 93/100\n",
      "270/270 - 43s - loss: 0.5670 - acc: 0.7470 - val_loss: 0.6943 - val_acc: 0.7633\n",
      "Epoch 94/100\n",
      "270/270 - 43s - loss: 0.5560 - acc: 0.7415 - val_loss: 0.5793 - val_acc: 0.7700\n",
      "Epoch 95/100\n",
      "270/270 - 43s - loss: 0.5674 - acc: 0.7356 - val_loss: 0.5267 - val_acc: 0.7667\n",
      "Epoch 96/100\n",
      "270/270 - 42s - loss: 0.5569 - acc: 0.7419 - val_loss: 0.4985 - val_acc: 0.7967\n",
      "Epoch 97/100\n",
      "270/270 - 43s - loss: 0.5466 - acc: 0.7485 - val_loss: 0.5806 - val_acc: 0.7767\n",
      "Epoch 98/100\n",
      "270/270 - 44s - loss: 0.5578 - acc: 0.7352 - val_loss: 0.4870 - val_acc: 0.7567\n",
      "Epoch 99/100\n",
      "270/270 - 43s - loss: 0.5563 - acc: 0.7385 - val_loss: 1.1185 - val_acc: 0.7333\n",
      "Epoch 100/100\n",
      "270/270 - 43s - loss: 0.5597 - acc: 0.7489 - val_loss: 0.8659 - val_acc: 0.7500\n"
     ]
    }
   ],
   "source": [
    "# import numpy as np\n",
    "# from tensorflow.keras.preprocessing import image\n",
    "history = model.fit_generator(train_generator,\n",
    "                    epochs=2,\n",
    "                    verbose=2,\n",
    "                    validation_data=validation_generator)\n",
    "\n",
    "# path = 'D:\\\\Jupyter-demo\\\\convolutional_neural_network_with_tensorflow\\\\cats_dogs_challenge.JPG'\n",
    "# img = image.load_img(path,target_size=(150,150))\n",
    "# x = image.img_to_array(img)\n",
    "# x = np.expand_dims(x, axis=0)\n",
    "\n",
    "# images=np.vstack([x])\n",
    "# classes = model.predict(images,batch_size=10)\n",
    "# print(classes[0])\n",
    "# if classes[0] > 0:\n",
    "#     print(\"it is a dog\")\n",
    "# else:\n",
    "#     print(\"it is a cat\")\n",
    "\n"
   ]
  },
  {
   "cell_type": "code",
   "execution_count": 20,
   "metadata": {
    "colab": {},
    "colab_type": "code",
    "id": "MWZrJN4-65RC"
   },
   "outputs": [
    {
     "data": {
      "text/plain": [
       "Text(0.5, 1.0, 'Training and validation loss')"
      ]
     },
     "execution_count": 20,
     "metadata": {},
     "output_type": "execute_result"
    },
    {
     "data": {
      "image/png": "[encoded data removed]",
      "text/plain": [
       "<Figure size 432x288 with 1 Axes>"
      ]
     },
     "metadata": {
      "needs_background": "light"
     },
     "output_type": "display_data"
    },
    {
     "data": {
      "image/png": "[encoded data removed]",
      "text/plain": [
       "<Figure size 432x288 with 1 Axes>"
      ]
     },
     "metadata": {
      "needs_background": "light"
     },
     "output_type": "display_data"
    }
   ],
   "source": [
    "# PLOT LOSS AND ACCURACY\n",
    "%matplotlib inline\n",
    "\n",
    "import matplotlib.image  as mpimg\n",
    "import matplotlib.pyplot as plt\n",
    "\n",
    "#-----------------------------------------------------------\n",
    "# Retrieve a list of list results on training and test data\n",
    "# sets for each training epoch\n",
    "#-----------------------------------------------------------\n",
    "acc=history.history['acc']\n",
    "val_acc=history.history['val_acc']\n",
    "loss=history.history['loss']\n",
    "val_loss=history.history['val_loss']\n",
    "\n",
    "epochs=range(len(acc)) # Get number of epochs\n",
    "\n",
    "#------------------------------------------------\n",
    "# Plot training and validation accuracy per epoch\n",
    "#------------------------------------------------\n",
    "plt.plot(epochs, acc, 'r', \"Training Accuracy\")\n",
    "plt.plot(epochs, val_acc, 'b', \"Validation Accuracy\")\n",
    "plt.title('Training and validation accuracy')\n",
    "plt.figure()\n",
    "\n",
    "#------------------------------------------------\n",
    "# Plot training and validation loss per epoch\n",
    "#------------------------------------------------\n",
    "plt.plot(epochs, loss, 'r', \"Training Loss\")\n",
    "plt.plot(epochs, val_loss, 'b', \"Validation Loss\")\n",
    "\n",
    "\n",
    "plt.title('Training and validation loss')\n",
    "\n",
    "# Desired output. Charts with training and validation metrics. No crash :)"
   ]
  },
  {
   "cell_type": "markdown",
   "metadata": {},
   "source": [
    "# Submission Instructions"
   ]
  },
  {
   "cell_type": "code",
   "execution_count": 21,
   "metadata": {},
   "outputs": [],
   "source": [
    "# Now click the 'Submit Assignment' button above."
   ]
  },
  {
   "cell_type": "markdown",
   "metadata": {},
   "source": [
    "# When you're done or would like to take a break, please run the two cells below to save your work and close the Notebook. This will free up resources for your fellow learners. "
   ]
  },
  {
   "cell_type": "code",
   "execution_count": null,
   "metadata": {},
   "outputs": [],
   "source": [
    "%%javascript\n",
    "<!-- Save the notebook -->\n",
    "IPython.notebook.save_checkpoint();"
   ]
  },
  {
   "cell_type": "code",
   "execution_count": null,
   "metadata": {},
   "outputs": [],
   "source": [
    "%%javascript\n",
    "IPython.notebook.session.delete();\n",
    "window.onbeforeunload = null\n",
    "setTimeout(function() { window.close(); }, 1000);"
   ]
  }
 ],
 "metadata": {
  "accelerator": "GPU",
  "colab": {
   "collapsed_sections": [],
   "name": "Exercise 6 - Question.ipynb",
   "provenance": []
  },
  "coursera": {
   "course_slug": "convolutional-neural-networks-tensorflow",
   "graded_item_id": "uAPOR",
   "launcher_item_id": "e9lTb"
  },
  "kernelspec": {
   "display_name": "Python 3",
   "language": "python",
   "name": "python3"
  },
  "language_info": {
   "codemirror_mode": {
    "name": "ipython",
    "version": 3
   },
   "file_extension": ".py",
   "mimetype": "text/x-python",
   "name": "python",
   "nbconvert_exporter": "python",
   "pygments_lexer": "ipython3",
   "version": "3.6.8"
  }
 },
 "nbformat": 4,
 "nbformat_minor": 1
}
