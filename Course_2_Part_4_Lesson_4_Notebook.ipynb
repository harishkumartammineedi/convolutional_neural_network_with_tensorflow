{
 "cells": [
  {
   "cell_type": "markdown",
   "metadata": {
    "colab_type": "text",
    "id": "rX8mhOLljYeM"
   },
   "source": [
    "##### Copyright 2019 The TensorFlow Authors."
   ]
  },
  {
   "cell_type": "code",
   "execution_count": null,
   "metadata": {
    "cellView": "form",
    "colab": {},
    "colab_type": "code",
    "id": "BZSlp3DAjdYf"
   },
   "outputs": [],
   "source": [
    "#@title Licensed under the Apache License, Version 2.0 (the \"License\");\n",
    "# you may not use this file except in compliance with the License.\n",
    "# You may obtain a copy of the License at\n",
    "#\n",
    "# https://www.apache.org/licenses/LICENSE-2.0\n",
    "#\n",
    "# Unless required by applicable law or agreed to in writing, software\n",
    "# distributed under the License is distributed on an \"AS IS\" BASIS,\n",
    "# WITHOUT WARRANTIES OR CONDITIONS OF ANY KIND, either express or implied.\n",
    "# See the License for the specific language governing permissions and\n",
    "# limitations under the License."
   ]
  },
  {
   "cell_type": "code",
   "execution_count": 1,
   "metadata": {
    "colab": {},
    "colab_type": "code",
    "id": "RXZT2UsyIVe_"
   },
   "outputs": [],
   "source": [
    "# !wget --no-check-certificate \\\n",
    "#     https://storage.googleapis.com/laurencemoroney-blog.appspot.com/horse-or-human.zip \\\n",
    "#     -O /tmp/horse-or-human.zip\n",
    "\n",
    "# !wget --no-check-certificate \\\n",
    "#     https://storage.googleapis.com/laurencemoroney-blog.appspot.com/validation-horse-or-human.zip \\\n",
    "#     -O /tmp/validation-horse-or-human.zip\n",
    "  \n",
    "import os\n",
    "import zipfile\n",
    "\n",
    "# local_zip = '/tmp/horse-or-human.zip'\n",
    "# zip_ref = zipfile.ZipFile(local_zip, 'r')\n",
    "# zip_ref.extractall('/tmp/horse-or-human')\n",
    "# local_zip = '/tmp/validation-horse-or-human.zip'\n",
    "# zip_ref = zipfile.ZipFile(local_zip, 'r')\n",
    "# zip_ref.extractall('/tmp/validation-horse-or-human')\n",
    "# zip_ref.close()\n",
    "# Directory with our training horse pictures\n",
    "train_horse_dir = os.path.join('D:\\Jupyter-demo\\ComputerVision_with_tensorflow\\horse-or-human\\horses')\n",
    "\n",
    "# Directory with our training human pictures\n",
    "train_human_dir = os.path.join('D:\\Jupyter-demo\\ComputerVision_with_tensorflow\\horse-or-human\\humans')\n",
    "\n",
    "# Directory with our training horse pictures\n",
    "validation_horse_dir = os.path.join('D:\\Jupyter-demo\\ComputerVision_with_tensorflow\\validation-horse-or-human\\horses')\n",
    "\n",
    "# Directory with our training human pictures\n",
    "validation_human_dir = os.path.join('D:\\Jupyter-demo\\ComputerVision_with_tensorflow\\validation-horse-or-human\\humans')"
   ]
  },
  {
   "cell_type": "markdown",
   "metadata": {
    "colab_type": "text",
    "id": "5oqBkNBJmtUv"
   },
   "source": [
    "## Building a Small Model from Scratch\n",
    "\n",
    "But before we continue, let's start defining the model:\n",
    "\n",
    "Step 1 will be to import tensorflow."
   ]
  },
  {
   "cell_type": "code",
   "execution_count": 2,
   "metadata": {
    "colab": {},
    "colab_type": "code",
    "id": "qvfZg3LQbD-5"
   },
   "outputs": [],
   "source": [
    "import tensorflow as tf"
   ]
  },
  {
   "cell_type": "markdown",
   "metadata": {
    "colab_type": "text",
    "id": "BnhYCP4tdqjC"
   },
   "source": [
    "We then add convolutional layers as in the previous example, and flatten the final result to feed into the densely connected layers."
   ]
  },
  {
   "cell_type": "markdown",
   "metadata": {
    "colab_type": "text",
    "id": "gokG5HKpdtzm"
   },
   "source": [
    "Finally we add the densely connected layers. \n",
    "\n",
    "Note that because we are facing a two-class classification problem, i.e. a *binary classification problem*, we will end our network with a [*sigmoid* activation](https://wikipedia.org/wiki/Sigmoid_function), so that the output of our network will be a single scalar between 0 and 1, encoding the probability that the current image is class 1 (as opposed to class 0)."
   ]
  },
  {
   "cell_type": "code",
   "execution_count": 3,
   "metadata": {
    "colab": {},
    "colab_type": "code",
    "id": "PixZ2s5QbYQ3"
   },
   "outputs": [],
   "source": [
    "model = tf.keras.models.Sequential([\n",
    "    # Note the input shape is the desired size of the image 300x300 with 3 bytes color\n",
    "    # This is the first convolution\n",
    "    tf.keras.layers.Conv2D(16, (3,3), activation='relu', input_shape=(300, 300, 3)),\n",
    "    tf.keras.layers.MaxPooling2D(2, 2),\n",
    "    # The second convolution\n",
    "    tf.keras.layers.Conv2D(32, (3,3), activation='relu'),\n",
    "    tf.keras.layers.MaxPooling2D(2,2),\n",
    "    # The third convolution\n",
    "    tf.keras.layers.Conv2D(64, (3,3), activation='relu'),\n",
    "    tf.keras.layers.MaxPooling2D(2,2),\n",
    "    # The fourth convolution\n",
    "    tf.keras.layers.Conv2D(64, (3,3), activation='relu'),\n",
    "    tf.keras.layers.MaxPooling2D(2,2),\n",
    "    # The fifth convolution\n",
    "    tf.keras.layers.Conv2D(64, (3,3), activation='relu'),\n",
    "    tf.keras.layers.MaxPooling2D(2,2),\n",
    "    # Flatten the results to feed into a DNN\n",
    "    tf.keras.layers.Flatten(),\n",
    "    # 512 neuron hidden layer\n",
    "    tf.keras.layers.Dense(512, activation='relu'),\n",
    "    # Only 1 output neuron. It will contain a value from 0-1 where 0 for 1 class ('horses') and 1 for the other ('humans')\n",
    "    tf.keras.layers.Dense(1, activation='sigmoid')\n",
    "])"
   ]
  },
  {
   "cell_type": "code",
   "execution_count": 4,
   "metadata": {
    "colab": {},
    "colab_type": "code",
    "id": "8DHWhFP_uhq3"
   },
   "outputs": [],
   "source": [
    "from tensorflow.keras.optimizers import RMSprop\n",
    "\n",
    "model.compile(loss='binary_crossentropy',\n",
    "              optimizer=RMSprop(lr=1e-4),\n",
    "              metrics=['accuracy'])"
   ]
  },
  {
   "cell_type": "code",
   "execution_count": 6,
   "metadata": {
    "colab": {},
    "colab_type": "code",
    "id": "ClebU9NJg99G"
   },
   "outputs": [
    {
     "name": "stdout",
     "output_type": "stream",
     "text": [
      "Found 1027 images belonging to 2 classes.\n",
      "Found 256 images belonging to 2 classes.\n"
     ]
    }
   ],
   "source": [
    "from tensorflow.keras.preprocessing.image import ImageDataGenerator\n",
    "\n",
    "# All images will be rescaled by 1./255\n",
    "train_datagen = ImageDataGenerator(\n",
    "      rescale=1./255,\n",
    "      rotation_range=40,\n",
    "      width_shift_range=0.2,\n",
    "      height_shift_range=0.2,\n",
    "      shear_range=0.2,\n",
    "      zoom_range=0.2,\n",
    "      horizontal_flip=True,\n",
    "      fill_mode='nearest')\n",
    "\n",
    "validation_datagen = ImageDataGenerator(rescale=1/255)\n",
    "\n",
    "# Flow training images in batches of 128 using train_datagen generator\n",
    "train_generator = train_datagen.flow_from_directory(\n",
    "        'D:\\\\Jupyter-demo\\\\ComputerVision_with_tensorflow\\\\horse-or-human\\\\',  # This is the source directory for training images\n",
    "        target_size=(300, 300),  # All images will be resized to 150x150\n",
    "        batch_size=128,\n",
    "        # Since we use binary_crossentropy loss, we need binary labels\n",
    "        class_mode='binary')\n",
    "\n",
    "# Flow training images in batches of 128 using train_datagen generator\n",
    "validation_generator = validation_datagen.flow_from_directory(\n",
    "        'D:\\\\Jupyter-demo\\\\ComputerVision_with_tensorflow\\\\validation-horse-or-human\\\\',  # This is the source directory for training images\n",
    "        target_size=(300, 300),  # All images will be resized to 150x150\n",
    "        batch_size=32,\n",
    "        # Since we use binary_crossentropy loss, we need binary labels\n",
    "        class_mode='binary')"
   ]
  },
  {
   "cell_type": "code",
   "execution_count": 7,
   "metadata": {
    "colab": {},
    "colab_type": "code",
    "id": "Fb1_lgobv81m"
   },
   "outputs": [
    {
     "name": "stdout",
     "output_type": "stream",
     "text": [
      "Epoch 1/100\n",
      "8/8 [==============================] - 66s 8s/step - loss: 0.6816 - accuracy: 0.5606 - val_loss: 0.6502 - val_accuracy: 0.5234\n",
      "Epoch 2/100\n",
      "8/8 [==============================] - 64s 8s/step - loss: 0.6662 - accuracy: 0.6185 - val_loss: 0.5835 - val_accuracy: 0.7812\n",
      "Epoch 3/100\n",
      "8/8 [==============================] - 63s 8s/step - loss: 0.6541 - accuracy: 0.6474 - val_loss: 0.5754 - val_accuracy: 0.6797\n",
      "Epoch 4/100\n",
      "8/8 [==============================] - 63s 8s/step - loss: 0.6283 - accuracy: 0.6830 - val_loss: 0.6714 - val_accuracy: 0.5430\n",
      "Epoch 5/100\n",
      "8/8 [==============================] - 75s 9s/step - loss: 0.6047 - accuracy: 0.6982 - val_loss: 0.5265 - val_accuracy: 0.6992\n",
      "Epoch 6/100\n",
      "8/8 [==============================] - 73s 9s/step - loss: 0.6047 - accuracy: 0.6785 - val_loss: 0.3944 - val_accuracy: 0.8789\n",
      "Epoch 7/100\n",
      "8/8 [==============================] - 74s 9s/step - loss: 0.5703 - accuracy: 0.6963 - val_loss: 0.4469 - val_accuracy: 0.7773\n",
      "Epoch 8/100\n",
      "8/8 [==============================] - 47s 6s/step - loss: 0.5856 - accuracy: 0.6973 - val_loss: 0.5194 - val_accuracy: 0.7266\n",
      "Epoch 9/100\n",
      "8/8 [==============================] - 42s 5s/step - loss: 0.5464 - accuracy: 0.7353 - val_loss: 0.3940 - val_accuracy: 0.8164\n",
      "Epoch 10/100\n",
      "8/8 [==============================] - 44s 5s/step - loss: 0.5545 - accuracy: 0.7230 - val_loss: 0.5263 - val_accuracy: 0.7344\n",
      "Epoch 11/100\n",
      "8/8 [==============================] - 48s 6s/step - loss: 0.4955 - accuracy: 0.7831 - val_loss: 0.4590 - val_accuracy: 0.7969\n",
      "Epoch 12/100\n",
      "8/8 [==============================] - 48s 6s/step - loss: 0.5354 - accuracy: 0.7330 - val_loss: 0.8097 - val_accuracy: 0.6289\n",
      "Epoch 13/100\n",
      "8/8 [==============================] - 48s 6s/step - loss: 0.5248 - accuracy: 0.7397 - val_loss: 0.9287 - val_accuracy: 0.6016\n",
      "Epoch 14/100\n",
      "8/8 [==============================] - 56s 7s/step - loss: 0.4709 - accuracy: 0.7887 - val_loss: 0.8075 - val_accuracy: 0.6289\n",
      "Epoch 15/100\n",
      "8/8 [==============================] - 48s 6s/step - loss: 0.5345 - accuracy: 0.7253 - val_loss: 0.6017 - val_accuracy: 0.7148\n",
      "Epoch 16/100\n",
      "8/8 [==============================] - 49s 6s/step - loss: 0.4761 - accuracy: 0.7764 - val_loss: 0.9811 - val_accuracy: 0.5977\n",
      "Epoch 17/100\n",
      "8/8 [==============================] - 55s 7s/step - loss: 0.4399 - accuracy: 0.8020 - val_loss: 0.7580 - val_accuracy: 0.6836\n",
      "Epoch 18/100\n",
      "8/8 [==============================] - 48s 6s/step - loss: 0.4645 - accuracy: 0.7875 - val_loss: 0.5753 - val_accuracy: 0.7539\n",
      "Epoch 19/100\n",
      "8/8 [==============================] - 50s 6s/step - loss: 0.4754 - accuracy: 0.7920 - val_loss: 0.5087 - val_accuracy: 0.7656\n",
      "Epoch 20/100\n",
      "8/8 [==============================] - 48s 6s/step - loss: 0.4453 - accuracy: 0.8131 - val_loss: 0.6894 - val_accuracy: 0.6953\n",
      "Epoch 21/100\n",
      "8/8 [==============================] - 48s 6s/step - loss: 0.4202 - accuracy: 0.8154 - val_loss: 0.5586 - val_accuracy: 0.7617\n",
      "Epoch 22/100\n",
      "8/8 [==============================] - 52s 7s/step - loss: 0.4336 - accuracy: 0.8037 - val_loss: 0.5643 - val_accuracy: 0.7461\n",
      "Epoch 23/100\n",
      "8/8 [==============================] - 48s 6s/step - loss: 0.4269 - accuracy: 0.8042 - val_loss: 0.8259 - val_accuracy: 0.6641\n",
      "Epoch 24/100\n",
      "8/8 [==============================] - 48s 6s/step - loss: 0.4324 - accuracy: 0.8042 - val_loss: 0.6514 - val_accuracy: 0.7109\n",
      "Epoch 25/100\n",
      "8/8 [==============================] - 51s 6s/step - loss: 0.4523 - accuracy: 0.7864 - val_loss: 0.6141 - val_accuracy: 0.6953\n",
      "Epoch 26/100\n",
      "8/8 [==============================] - 50s 6s/step - loss: 0.3937 - accuracy: 0.8565 - val_loss: 0.1571 - val_accuracy: 0.9531\n",
      "Epoch 27/100\n",
      "8/8 [==============================] - 49s 6s/step - loss: 0.4442 - accuracy: 0.8154 - val_loss: 0.9798 - val_accuracy: 0.6406\n",
      "Epoch 28/100\n",
      "8/8 [==============================] - 51s 6s/step - loss: 0.4358 - accuracy: 0.8209 - val_loss: 0.7530 - val_accuracy: 0.6875\n",
      "Epoch 29/100\n",
      "8/8 [==============================] - 50s 6s/step - loss: 0.3690 - accuracy: 0.8565 - val_loss: 0.9417 - val_accuracy: 0.6211\n",
      "Epoch 30/100\n",
      "8/8 [==============================] - 49s 6s/step - loss: 0.3551 - accuracy: 0.8443 - val_loss: 1.4295 - val_accuracy: 0.6055\n",
      "Epoch 31/100\n",
      "8/8 [==============================] - 49s 6s/step - loss: 0.3544 - accuracy: 0.8454 - val_loss: 1.4269 - val_accuracy: 0.5977\n",
      "Epoch 32/100\n",
      "8/8 [==============================] - 52s 6s/step - loss: 0.3780 - accuracy: 0.8287 - val_loss: 1.0939 - val_accuracy: 0.6641\n",
      "Epoch 33/100\n",
      "8/8 [==============================] - 52s 7s/step - loss: 0.3457 - accuracy: 0.8509 - val_loss: 0.7819 - val_accuracy: 0.7109\n",
      "Epoch 34/100\n",
      "8/8 [==============================] - 51s 6s/step - loss: 0.3372 - accuracy: 0.8532 - val_loss: 1.3034 - val_accuracy: 0.6406\n",
      "Epoch 35/100\n",
      "8/8 [==============================] - 51s 6s/step - loss: 0.3577 - accuracy: 0.8476 - val_loss: 0.5134 - val_accuracy: 0.7812\n",
      "Epoch 36/100\n",
      "8/8 [==============================] - 49s 6s/step - loss: 0.3157 - accuracy: 0.8632 - val_loss: 1.8402 - val_accuracy: 0.5781\n",
      "Epoch 37/100\n",
      "8/8 [==============================] - 51s 6s/step - loss: 0.3220 - accuracy: 0.8654 - val_loss: 1.4100 - val_accuracy: 0.6094\n",
      "Epoch 38/100\n",
      "8/8 [==============================] - 60s 8s/step - loss: 0.3484 - accuracy: 0.8398 - val_loss: 1.0778 - val_accuracy: 0.6797\n",
      "Epoch 39/100\n",
      "8/8 [==============================] - 53s 7s/step - loss: 0.3323 - accuracy: 0.8576 - val_loss: 0.6655 - val_accuracy: 0.7539\n",
      "Epoch 40/100\n",
      "8/8 [==============================] - 46s 6s/step - loss: 0.3319 - accuracy: 0.8554 - val_loss: 1.0542 - val_accuracy: 0.6758\n",
      "Epoch 41/100\n",
      "8/8 [==============================] - 51s 6s/step - loss: 0.2887 - accuracy: 0.8932 - val_loss: 0.6940 - val_accuracy: 0.7383\n",
      "Epoch 42/100\n",
      "8/8 [==============================] - 52s 6s/step - loss: 0.3154 - accuracy: 0.8654 - val_loss: 1.0760 - val_accuracy: 0.6875\n",
      "Epoch 43/100\n",
      "8/8 [==============================] - 52s 7s/step - loss: 0.3589 - accuracy: 0.8487 - val_loss: 0.9905 - val_accuracy: 0.6641\n",
      "Epoch 44/100\n",
      "8/8 [==============================] - 53s 7s/step - loss: 0.3144 - accuracy: 0.8610 - val_loss: 1.7908 - val_accuracy: 0.5938\n",
      "Epoch 45/100\n",
      "8/8 [==============================] - 54s 7s/step - loss: 0.2874 - accuracy: 0.8832 - val_loss: 1.1511 - val_accuracy: 0.6758\n",
      "Epoch 46/100\n",
      "8/8 [==============================] - 53s 7s/step - loss: 0.3202 - accuracy: 0.8765 - val_loss: 0.8497 - val_accuracy: 0.7148\n",
      "Epoch 47/100\n",
      "8/8 [==============================] - 53s 7s/step - loss: 0.2441 - accuracy: 0.9066 - val_loss: 1.4830 - val_accuracy: 0.6445\n",
      "Epoch 48/100\n",
      "8/8 [==============================] - 57s 7s/step - loss: 0.2787 - accuracy: 0.8865 - val_loss: 1.4645 - val_accuracy: 0.6484\n",
      "Epoch 49/100\n",
      "8/8 [==============================] - 60s 7s/step - loss: 0.2380 - accuracy: 0.9102 - val_loss: 0.9562 - val_accuracy: 0.7188\n",
      "Epoch 50/100\n",
      "8/8 [==============================] - 54s 7s/step - loss: 0.2935 - accuracy: 0.8699 - val_loss: 1.0825 - val_accuracy: 0.7070\n",
      "Epoch 51/100\n",
      "8/8 [==============================] - 60s 8s/step - loss: 0.2417 - accuracy: 0.9043 - val_loss: 0.9395 - val_accuracy: 0.7305\n",
      "Epoch 52/100\n",
      "8/8 [==============================] - 56s 7s/step - loss: 0.3284 - accuracy: 0.8509 - val_loss: 1.0394 - val_accuracy: 0.7148\n",
      "Epoch 53/100\n",
      "8/8 [==============================] - 53s 7s/step - loss: 0.2026 - accuracy: 0.9277 - val_loss: 0.1602 - val_accuracy: 0.9453\n",
      "Epoch 54/100\n",
      "8/8 [==============================] - 63s 8s/step - loss: 0.3098 - accuracy: 0.8687 - val_loss: 1.0421 - val_accuracy: 0.7031\n",
      "Epoch 55/100\n",
      "8/8 [==============================] - 55s 7s/step - loss: 0.2286 - accuracy: 0.9077 - val_loss: 1.7563 - val_accuracy: 0.6367\n",
      "Epoch 56/100\n",
      "8/8 [==============================] - 55s 7s/step - loss: 0.2994 - accuracy: 0.8710 - val_loss: 1.0563 - val_accuracy: 0.7109\n",
      "Epoch 57/100\n",
      "8/8 [==============================] - 55s 7s/step - loss: 0.2257 - accuracy: 0.9088 - val_loss: 1.3606 - val_accuracy: 0.6680\n",
      "Epoch 58/100\n",
      "8/8 [==============================] - 59s 7s/step - loss: 0.4212 - accuracy: 0.8476 - val_loss: 1.4419 - val_accuracy: 0.6523\n",
      "Epoch 59/100\n"
     ]
    },
    {
     "name": "stdout",
     "output_type": "stream",
     "text": [
      "8/8 [==============================] - 57s 7s/step - loss: 0.2035 - accuracy: 0.9232 - val_loss: 1.5626 - val_accuracy: 0.6445\n",
      "Epoch 60/100\n",
      "8/8 [==============================] - 55s 7s/step - loss: 0.2067 - accuracy: 0.9277 - val_loss: 1.4136 - val_accuracy: 0.6797\n",
      "Epoch 61/100\n",
      "8/8 [==============================] - 56s 7s/step - loss: 0.3868 - accuracy: 0.8632 - val_loss: 1.2413 - val_accuracy: 0.6953\n",
      "Epoch 62/100\n",
      "8/8 [==============================] - 55s 7s/step - loss: 0.1917 - accuracy: 0.9288 - val_loss: 1.5327 - val_accuracy: 0.6602\n",
      "Epoch 63/100\n",
      "8/8 [==============================] - 57s 7s/step - loss: 0.2049 - accuracy: 0.9210 - val_loss: 1.7581 - val_accuracy: 0.6484\n",
      "Epoch 64/100\n",
      "8/8 [==============================] - 50s 6s/step - loss: 0.2268 - accuracy: 0.9032 - val_loss: 1.0044 - val_accuracy: 0.7148\n",
      "Epoch 65/100\n",
      "8/8 [==============================] - 50s 6s/step - loss: 0.2196 - accuracy: 0.9143 - val_loss: 2.3247 - val_accuracy: 0.6055\n",
      "Epoch 66/100\n",
      "8/8 [==============================] - 50s 6s/step - loss: 0.2976 - accuracy: 0.8854 - val_loss: 0.5042 - val_accuracy: 0.8398\n",
      "Epoch 67/100\n",
      "8/8 [==============================] - 55s 7s/step - loss: 0.2156 - accuracy: 0.9111 - val_loss: 1.3397 - val_accuracy: 0.6992\n",
      "Epoch 68/100\n",
      "8/8 [==============================] - 50s 6s/step - loss: 0.1803 - accuracy: 0.9344 - val_loss: 1.4962 - val_accuracy: 0.6758\n",
      "Epoch 69/100\n",
      "8/8 [==============================] - 50s 6s/step - loss: 0.2491 - accuracy: 0.8921 - val_loss: 1.0051 - val_accuracy: 0.7266\n",
      "Epoch 70/100\n",
      "8/8 [==============================] - 50s 6s/step - loss: 0.1715 - accuracy: 0.9288 - val_loss: 1.8686 - val_accuracy: 0.6523\n",
      "Epoch 71/100\n",
      "8/8 [==============================] - 50s 6s/step - loss: 0.1997 - accuracy: 0.9177 - val_loss: 0.7980 - val_accuracy: 0.7812\n",
      "Epoch 72/100\n",
      "8/8 [==============================] - 49s 6s/step - loss: 0.2461 - accuracy: 0.8932 - val_loss: 1.5170 - val_accuracy: 0.6758\n",
      "Epoch 73/100\n",
      "8/8 [==============================] - 50s 6s/step - loss: 0.1797 - accuracy: 0.9232 - val_loss: 0.7313 - val_accuracy: 0.8047\n",
      "Epoch 74/100\n",
      "8/8 [==============================] - 47s 6s/step - loss: 0.1884 - accuracy: 0.9166 - val_loss: 2.3056 - val_accuracy: 0.5781\n",
      "Epoch 75/100\n",
      "8/8 [==============================] - 49s 6s/step - loss: 0.1899 - accuracy: 0.9210 - val_loss: 2.0963 - val_accuracy: 0.6523\n",
      "Epoch 76/100\n",
      "8/8 [==============================] - 49s 6s/step - loss: 0.1655 - accuracy: 0.9399 - val_loss: 0.6095 - val_accuracy: 0.8398\n",
      "Epoch 77/100\n",
      "8/8 [==============================] - 47s 6s/step - loss: 0.1882 - accuracy: 0.9266 - val_loss: 0.8841 - val_accuracy: 0.7812\n",
      "Epoch 78/100\n",
      "8/8 [==============================] - 49s 6s/step - loss: 0.2200 - accuracy: 0.9121 - val_loss: 1.3258 - val_accuracy: 0.7109\n",
      "Epoch 79/100\n",
      "8/8 [==============================] - 49s 6s/step - loss: 0.2338 - accuracy: 0.9032 - val_loss: 1.3122 - val_accuracy: 0.6914\n",
      "Epoch 80/100\n",
      "8/8 [==============================] - 58s 7s/step - loss: 0.1664 - accuracy: 0.9399 - val_loss: 1.5402 - val_accuracy: 0.6758\n",
      "Epoch 81/100\n",
      "8/8 [==============================] - 48s 6s/step - loss: 0.1709 - accuracy: 0.9333 - val_loss: 2.6428 - val_accuracy: 0.6055\n",
      "Epoch 82/100\n",
      "8/8 [==============================] - 52s 6s/step - loss: 0.1639 - accuracy: 0.9344 - val_loss: 0.8054 - val_accuracy: 0.7812\n",
      "Epoch 83/100\n",
      "8/8 [==============================] - 62s 8s/step - loss: 0.2060 - accuracy: 0.9110 - val_loss: 1.8906 - val_accuracy: 0.6367\n",
      "Epoch 84/100\n",
      "8/8 [==============================] - 54s 7s/step - loss: 0.2045 - accuracy: 0.9210 - val_loss: 1.1371 - val_accuracy: 0.7188\n",
      "Epoch 85/100\n",
      "8/8 [==============================] - 51s 6s/step - loss: 0.1400 - accuracy: 0.9477 - val_loss: 1.8874 - val_accuracy: 0.6602\n",
      "Epoch 86/100\n",
      "8/8 [==============================] - 51s 6s/step - loss: 0.1792 - accuracy: 0.9266 - val_loss: 1.0622 - val_accuracy: 0.7188\n",
      "Epoch 87/100\n",
      "8/8 [==============================] - 52s 7s/step - loss: 0.1400 - accuracy: 0.9522 - val_loss: 1.9566 - val_accuracy: 0.6602\n",
      "Epoch 88/100\n",
      "8/8 [==============================] - 50s 6s/step - loss: 0.2301 - accuracy: 0.9055 - val_loss: 1.3474 - val_accuracy: 0.6836\n",
      "Epoch 89/100\n",
      "8/8 [==============================] - 54s 7s/step - loss: 0.1522 - accuracy: 0.9453 - val_loss: 1.5016 - val_accuracy: 0.6758\n",
      "Epoch 90/100\n",
      "8/8 [==============================] - 49s 6s/step - loss: 0.1394 - accuracy: 0.9544 - val_loss: 0.8619 - val_accuracy: 0.7773\n",
      "Epoch 91/100\n",
      "8/8 [==============================] - 71s 9s/step - loss: 0.1439 - accuracy: 0.9482 - val_loss: 2.9924 - val_accuracy: 0.6016\n",
      "Epoch 92/100\n",
      "8/8 [==============================] - 64s 8s/step - loss: 0.1955 - accuracy: 0.9077 - val_loss: 1.7633 - val_accuracy: 0.6797\n",
      "Epoch 93/100\n",
      "8/8 [==============================] - 69s 9s/step - loss: 0.1753 - accuracy: 0.9307 - val_loss: 1.6552 - val_accuracy: 0.6758\n",
      "Epoch 94/100\n",
      "8/8 [==============================] - 64s 8s/step - loss: 0.2040 - accuracy: 0.9132 - val_loss: 1.3176 - val_accuracy: 0.6758\n",
      "Epoch 95/100\n",
      "8/8 [==============================] - 69s 9s/step - loss: 0.1434 - accuracy: 0.9463 - val_loss: 1.7012 - val_accuracy: 0.6680\n",
      "Epoch 96/100\n",
      "8/8 [==============================] - 61s 8s/step - loss: 0.1481 - accuracy: 0.9344 - val_loss: 1.6200 - val_accuracy: 0.6797\n",
      "Epoch 97/100\n",
      "8/8 [==============================] - 60s 7s/step - loss: 0.1448 - accuracy: 0.9466 - val_loss: 2.5813 - val_accuracy: 0.6406\n",
      "Epoch 98/100\n",
      "8/8 [==============================] - 57s 7s/step - loss: 0.1273 - accuracy: 0.9522 - val_loss: 1.1101 - val_accuracy: 0.7695\n",
      "Epoch 99/100\n",
      "8/8 [==============================] - 63s 8s/step - loss: 0.1925 - accuracy: 0.9232 - val_loss: 1.1039 - val_accuracy: 0.7422\n",
      "Epoch 100/100\n",
      "8/8 [==============================] - 62s 8s/step - loss: 0.1917 - accuracy: 0.9277 - val_loss: 1.7115 - val_accuracy: 0.6680\n"
     ]
    }
   ],
   "source": [
    "history = model.fit(\n",
    "      train_generator,\n",
    "      steps_per_epoch=8,  \n",
    "      epochs=100,\n",
    "      verbose=1,\n",
    "      validation_data = validation_generator,\n",
    "      validation_steps=8)"
   ]
  },
  {
   "cell_type": "code",
   "execution_count": 8,
   "metadata": {
    "colab": {},
    "colab_type": "code",
    "id": "7zNPRWOVJdOH"
   },
   "outputs": [
    {
     "data": {
      "image/png": "[encoded data removed]",
      "text/plain": [
       "<Figure size 432x288 with 1 Axes>"
      ]
     },
     "metadata": {
      "needs_background": "light"
     },
     "output_type": "display_data"
    },
    {
     "data": {
      "image/png": "[encoded data removed]",
      "text/plain": [
       "<Figure size 432x288 with 1 Axes>"
      ]
     },
     "metadata": {
      "needs_background": "light"
     },
     "output_type": "display_data"
    }
   ],
   "source": [
    "# import matplotlib.pyplot as plt\n",
    "# acc = history.history['accuracy']\n",
    "# val_acc = history.history['val_accuracy']\n",
    "# loss = history.history['loss']\n",
    "# val_loss = history.history['val_loss']\n",
    "\n",
    "# epochs = range(len(acc))\n",
    "\n",
    "# plt.plot(epochs, acc, 'r', label='Training accuracy')\n",
    "# plt.plot(epochs, val_acc, 'b', label='Validation accuracy')\n",
    "# plt.title('Training and validation accuracy')\n",
    "\n",
    "# plt.figure()\n",
    "\n",
    "# plt.plot(epochs, loss, 'r', label='Training Loss')\n",
    "# plt.plot(epochs, val_loss, 'b', label='Validation Loss')\n",
    "# plt.title('Training and validation loss')\n",
    "# plt.legend()\n",
    "\n",
    "# plt.show()\n",
    "import matplotlib.pyplot as plt\n",
    "acc = history.history['accuracy']\n",
    "val_acc=history.history['val_accuracy']\n",
    "loss=history.history['loss']\n",
    "val_loss=history.history['val_loss']\n",
    "\n",
    "epochs = range(len(acc))\n",
    "\n",
    "plt.plot(epochs,acc,'r',label='Training accuracy')\n",
    "plt.plot(epochs,val_acc,'b',label='Validation accuracy')\n",
    "plt.title('Training and validation accuracy')\n",
    "\n",
    "plt.figure()\n",
    "\n",
    "plt.plot(epochs,loss,'r',label='Training loss')\n",
    "plt.plot(epochs,val_loss,'b',label='validation loss')\n",
    "plt.title('Training and validation loss')\n",
    "\n",
    "plt.legend()\n",
    "\n",
    "plt.show()"
   ]
  }
 ],
 "metadata": {
  "accelerator": "GPU",
  "colab": {
   "collapsed_sections": [],
   "name": "Course 2 - Part 4 - Lesson 4 - Notebook.ipynb",
   "provenance": [],
   "toc_visible": true
  },
  "kernelspec": {
   "display_name": "Python 3",
   "language": "python",
   "name": "python3"
  },
  "language_info": {
   "codemirror_mode": {
    "name": "ipython",
    "version": 3
   },
   "file_extension": ".py",
   "mimetype": "text/x-python",
   "name": "python",
   "nbconvert_exporter": "python",
   "pygments_lexer": "ipython3",
   "version": "3.7.8"
  }
 },
 "nbformat": 4,
 "nbformat_minor": 1
}
